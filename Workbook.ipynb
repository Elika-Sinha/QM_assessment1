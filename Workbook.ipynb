{
 "cells": [
  {
   "cell_type": "code",
   "execution_count": 33,
   "id": "6a8ff468-011e-4930-ba93-d2f4cb193aa4",
   "metadata": {},
   "outputs": [],
   "source": [
    "# simple linear regression as per what has been taught online\n",
    "import matplotlib.pyplot as plt\n",
    "import statsmodels.api as sms\n",
    "import numpy as np\n",
    "import pandas as pd\n",
    "from sklearn.linear_model import LinearRegression"
   ]
  },
  {
   "cell_type": "code",
   "execution_count": 34,
   "id": "d0c410bf-f068-46ae-84d0-f11e33111d75",
   "metadata": {},
   "outputs": [],
   "source": [
    "data = pd.read_csv('workbook1.csv')"
   ]
  },
  {
   "cell_type": "code",
   "execution_count": 35,
   "id": "40395dbb-fd6d-4da7-ba1d-80f5a6151f0a",
   "metadata": {},
   "outputs": [],
   "source": [
    "X = data.iloc[:, 0].values.reshape(-1, 1) \n",
    "Y = data.iloc[:, 1].values.reshape(-1, 1)"
   ]
  },
  {
   "cell_type": "code",
   "execution_count": 36,
   "id": "adcd7a46-305d-4e34-b910-db7b9e33a099",
   "metadata": {},
   "outputs": [],
   "source": [
    "linear_regressor = LinearRegression()\n",
    "linear_regressor.fit(X, Y) \n",
    "Y_pred = linear_regressor.predict(X)"
   ]
  },
  {
   "cell_type": "code",
   "execution_count": 37,
   "id": "fd15d330-3148-4f43-9ded-c3c72dfd67f6",
   "metadata": {},
   "outputs": [
    {
     "data": {
      "image/png": "[encoded data removed]",
      "text/plain": [
       "<Figure size 432x288 with 1 Axes>"
      ]
     },
     "metadata": {
      "needs_background": "light"
     },
     "output_type": "display_data"
    }
   ],
   "source": [
    "plt.scatter(X, Y)\n",
    "plt.plot(X, Y_pred, color='red')\n",
    "plt.show()"
   ]
  },
  {
   "cell_type": "code",
   "execution_count": 38,
   "id": "43eb692e-8c74-4c2b-858b-71fd0584852a",
   "metadata": {},
   "outputs": [],
   "source": [
    "# simple linear regression in accordance to what has been taught in class\n",
    "## plotting the decadal increase in cases against total budget allocated to tackle condition X in all of England\n",
    "data_filename = 'workbook1.csv'"
   ]
  },
  {
   "cell_type": "code",
   "execution_count": 39,
   "id": "337d7a73-2a1b-4471-b8a5-4c89f4d7665f",
   "metadata": {},
   "outputs": [],
   "source": [
    "output_filename = 'regression_figure.png'"
   ]
  },
  {
   "cell_type": "code",
   "execution_count": 40,
   "id": "2e75cc9b-d220-4cda-9769-7952f9ecc143",
   "metadata": {},
   "outputs": [],
   "source": [
    "figure_width, figure_height = 20,20"
   ]
  },
  {
   "cell_type": "code",
   "execution_count": 41,
   "id": "1f177ac5-b692-4338-b1ef-9701befaa981",
   "metadata": {},
   "outputs": [],
   "source": [
    "data = np.genfromtxt('workbook1.csv',delimiter = ',')"
   ]
  },
  {
   "cell_type": "code",
   "execution_count": 42,
   "id": "defae324-42f8-48df-98dc-991660c1192b",
   "metadata": {},
   "outputs": [],
   "source": [
    "x_values = data[:,0]\n",
    "y_values = data[:,1]"
   ]
  },
  {
   "cell_type": "code",
   "execution_count": 43,
   "id": "445b676d-daf7-4665-923f-122054af9368",
   "metadata": {},
   "outputs": [],
   "source": [
    "X_values = sms.add_constant(x_values)\n",
    "regression_model_a = sms.OLS(y_values, X_values)\n",
    "regression_model_b = regression_model_a.fit()"
   ]
  },
  {
   "cell_type": "code",
   "execution_count": 44,
   "id": "f5be462a-7365-4b3b-8298-7ea1526a608a",
   "metadata": {},
   "outputs": [
    {
     "name": "stdout",
     "output_type": "stream",
     "text": [
      "                            OLS Regression Results                            \n",
      "==============================================================================\n",
      "Dep. Variable:                      y   R-squared:                       0.578\n",
      "Model:                            OLS   Adj. R-squared:                  0.576\n",
      "Method:                 Least Squares   F-statistic:                     205.8\n",
      "Date:                Sun, 14 Nov 2021   Prob (F-statistic):           6.32e-30\n",
      "Time:                        22:18:11   Log-Likelihood:                -929.94\n",
      "No. Observations:                 152   AIC:                             1864.\n",
      "Df Residuals:                     150   BIC:                             1870.\n",
      "Df Model:                           1                                         \n",
      "Covariance Type:            nonrobust                                         \n",
      "==============================================================================\n",
      "                 coef    std err          t      P>|t|      [0.025      0.975]\n",
      "------------------------------------------------------------------------------\n",
      "const         37.5215     14.630      2.565      0.011       8.614      66.429\n",
      "x1             0.0006   4.28e-05     14.344      0.000       0.001       0.001\n",
      "==============================================================================\n",
      "Omnibus:                       14.344   Durbin-Watson:                   1.775\n",
      "Prob(Omnibus):                  0.001   Jarque-Bera (JB):               46.519\n",
      "Skew:                           0.015   Prob(JB):                     7.92e-11\n",
      "Kurtosis:                       5.710   Cond. No.                     5.58e+05\n",
      "==============================================================================\n",
      "\n",
      "Notes:\n",
      "[1] Standard Errors assume that the covariance matrix of the errors is correctly specified.\n",
      "[2] The condition number is large, 5.58e+05. This might indicate that there are\n",
      "strong multicollinearity or other numerical problems.\n",
      "\n"
     ]
    }
   ],
   "source": [
    "print(regression_model_b.summary())\n",
    "print()"
   ]
  },
  {
   "cell_type": "code",
   "execution_count": 45,
   "id": "233ff366-c6cd-43fa-9ca5-d740f3c0f273",
   "metadata": {},
   "outputs": [],
   "source": [
    "gradient  = regression_model_b.params[1]\n",
    "intercept = regression_model_b.params[0]\n",
    "Rsquared  = regression_model_b.rsquared\n",
    "MSE       = regression_model_b.mse_resid\n",
    "pvalue    = regression_model_b.f_pvalue"
   ]
  },
  {
   "cell_type": "code",
   "execution_count": 46,
   "id": "ed69bee6-e2a5-48ed-8652-3171e0775b38",
   "metadata": {},
   "outputs": [
    {
     "name": "stdout",
     "output_type": "stream",
     "text": [
      "gradient  = 0.0006133260780976043\n",
      "intercept = 37.52152256055086\n",
      "Rsquared  = 0.5783628948201048\n",
      "MSE       = 12227.943974939431\n",
      "pvalue    = 6.315724982663434e-30\n"
     ]
    }
   ],
   "source": [
    "print(\"gradient  =\", regression_model_b.params[1])\n",
    "print(\"intercept =\", regression_model_b.params[0])\n",
    "print(\"Rsquared  =\", regression_model_b.rsquared)\n",
    "print(\"MSE       =\", regression_model_b.mse_resid)\n",
    "print(\"pvalue    =\", regression_model_b.f_pvalue)"
   ]
  },
  {
   "cell_type": "code",
   "execution_count": 47,
   "id": "88efa340-a8a3-4605-aaf9-8920da5bd285",
   "metadata": {},
   "outputs": [],
   "source": [
    "x_lobf = [min(x_values),max(x_values)]\n",
    "y_lobf = [x_lobf[0]*gradient + intercept,x_lobf[1]*gradient + intercept]"
   ]
  },
  {
   "cell_type": "code",
   "execution_count": 48,
   "id": "c5f998ee-ff0e-458a-8b6b-241494e5f929",
   "metadata": {},
   "outputs": [
    {
     "data": {
      "text/plain": [
       "<Figure size 1440x1440 with 0 Axes>"
      ]
     },
     "execution_count": 48,
     "metadata": {},
     "output_type": "execute_result"
    },
    {
     "data": {
      "text/plain": [
       "<Figure size 1440x1440 with 0 Axes>"
      ]
     },
     "metadata": {},
     "output_type": "display_data"
    }
   ],
   "source": [
    "plt.figure(figsize=(figure_width,figure_height))"
   ]
  },
  {
   "cell_type": "code",
   "execution_count": 49,
   "id": "0a225083-015c-4c12-a57e-bf5a284cd883",
   "metadata": {},
   "outputs": [
    {
     "data": {
      "image/png": "[encoded data removed]",
      "text/plain": [
       "<Figure size 432x288 with 1 Axes>"
      ]
     },
     "metadata": {
      "needs_background": "light"
     },
     "output_type": "display_data"
    }
   ],
   "source": [
    "plt.plot(x_values,y_values,'b.',x_lobf,y_lobf,'r--')\n",
    "plt.xlabel('total budget allocated')\n",
    "plt.ylabel('decadal increase in cases')\n",
    "plt.savefig('regression_figure.png')"
   ]
  },
  {
   "cell_type": "code",
   "execution_count": 50,
   "id": "1d23f346-18be-4e9e-9179-692767cbb25f",
   "metadata": {},
   "outputs": [],
   "source": [
    "# plotting the decadal increase in cases against total budget allocated to tackle condition X in London\n",
    "data_filename = 'London.csv'"
   ]
  },
  {
   "cell_type": "code",
   "execution_count": 51,
   "id": "a53b7c9f-4657-4b74-8a18-2306c6d5bef4",
   "metadata": {},
   "outputs": [],
   "source": [
    "output_filename = 'regression_figure1.png'"
   ]
  },
  {
   "cell_type": "code",
   "execution_count": 52,
   "id": "2146f272-a1c5-4d63-a923-bfd58e48c097",
   "metadata": {},
   "outputs": [],
   "source": [
    "figure_width, figure_height = 20,20"
   ]
  },
  {
   "cell_type": "code",
   "execution_count": 53,
   "id": "46adb166-bc8e-4d46-a213-c3d62dc477c7",
   "metadata": {},
   "outputs": [],
   "source": [
    "data = np.genfromtxt('London.csv',delimiter = ',')"
   ]
  },
  {
   "cell_type": "code",
   "execution_count": 54,
   "id": "69d7ae71-692d-43cc-96ee-b68b16782ed7",
   "metadata": {},
   "outputs": [],
   "source": [
    "x_values = data[:,0]\n",
    "y_values = data[:,1]"
   ]
  },
  {
   "cell_type": "code",
   "execution_count": 73,
   "id": "371ae83a-576f-42ea-9072-448d7a1b78d9",
   "metadata": {},
   "outputs": [],
   "source": [
    "X_values = sms.add_constant(x_values)\n",
    "regression_model_a = sms.OLS(y_values, X_values)\n",
    "regression_model_b = regression_model_a.fit()"
   ]
  },
  {
   "cell_type": "code",
   "execution_count": 74,
   "id": "c0535dd5-d559-48b3-b92a-c6ed082b0e43",
   "metadata": {},
   "outputs": [
    {
     "name": "stdout",
     "output_type": "stream",
     "text": [
      "                            OLS Regression Results                            \n",
      "==============================================================================\n",
      "Dep. Variable:                      y   R-squared:                       0.832\n",
      "Model:                            OLS   Adj. R-squared:                  0.808\n",
      "Method:                 Least Squares   F-statistic:                     34.76\n",
      "Date:                Sun, 14 Nov 2021   Prob (F-statistic):           0.000602\n",
      "Time:                        22:18:59   Log-Likelihood:                -54.055\n",
      "No. Observations:                   9   AIC:                             112.1\n",
      "Df Residuals:                       7   BIC:                             112.5\n",
      "Df Model:                           1                                         \n",
      "Covariance Type:            nonrobust                                         \n",
      "==============================================================================\n",
      "                 coef    std err          t      P>|t|      [0.025      0.975]\n",
      "------------------------------------------------------------------------------\n",
      "const       -129.8514     82.825     -1.568      0.161    -325.703      66.000\n",
      "x1             0.0012      0.000      5.896      0.001       0.001       0.002\n",
      "==============================================================================\n",
      "Omnibus:                        0.310   Durbin-Watson:                   1.907\n",
      "Prob(Omnibus):                  0.856   Jarque-Bera (JB):                0.298\n",
      "Skew:                           0.312   Prob(JB):                        0.862\n",
      "Kurtosis:                       2.363   Cond. No.                     9.29e+05\n",
      "==============================================================================\n",
      "\n",
      "Notes:\n",
      "[1] Standard Errors assume that the covariance matrix of the errors is correctly specified.\n",
      "[2] The condition number is large, 9.29e+05. This might indicate that there are\n",
      "strong multicollinearity or other numerical problems.\n",
      "\n"
     ]
    },
    {
     "name": "stderr",
     "output_type": "stream",
     "text": [
      "C:\\Users\\Dell_Owner\\anaconda3\\lib\\site-packages\\scipy\\stats\\stats.py:1603: UserWarning: kurtosistest only valid for n>=20 ... continuing anyway, n=9\n",
      "  warnings.warn(\"kurtosistest only valid for n>=20 ... continuing \"\n"
     ]
    }
   ],
   "source": [
    "print(regression_model_b.summary())\n",
    "print()"
   ]
  },
  {
   "cell_type": "code",
   "execution_count": 75,
   "id": "42b25b32-3cd7-4043-aed8-f57e02bfbe0c",
   "metadata": {},
   "outputs": [],
   "source": [
    "gradient  = regression_model_b.params[1]\n",
    "intercept = regression_model_b.params[0]\n",
    "Rsquared  = regression_model_b.rsquared\n",
    "MSE       = regression_model_b.mse_resid\n",
    "pvalue    = regression_model_b.f_pvalue"
   ]
  },
  {
   "cell_type": "code",
   "execution_count": 76,
   "id": "fe97a171-71b4-43d8-bbba-f11455d0c14c",
   "metadata": {},
   "outputs": [
    {
     "name": "stdout",
     "output_type": "stream",
     "text": [
      "gradient  = 0.0011723852093681651\n",
      "intercept = -129.85142628808023\n",
      "Rsquared  = 0.8323722212428789\n",
      "MSE       = 12403.018818494756\n",
      "pvalue    = 0.0006020921679148142\n"
     ]
    }
   ],
   "source": [
    "print(\"gradient  =\", regression_model_b.params[1])\n",
    "print(\"intercept =\", regression_model_b.params[0])\n",
    "print(\"Rsquared  =\", regression_model_b.rsquared)\n",
    "print(\"MSE       =\", regression_model_b.mse_resid)\n",
    "print(\"pvalue    =\", regression_model_b.f_pvalue)"
   ]
  },
  {
   "cell_type": "code",
   "execution_count": 77,
   "id": "1c3ba433-bd62-4c0a-a147-b66e8a91f4dc",
   "metadata": {},
   "outputs": [],
   "source": [
    "x_lobf = [min(x_values),max(x_values)]\n",
    "y_lobf = [x_lobf[0]*gradient + intercept,x_lobf[1]*gradient + intercept]"
   ]
  },
  {
   "cell_type": "code",
   "execution_count": 78,
   "id": "4f5902fe-eda3-4e79-9c3b-b2a1aeb84efc",
   "metadata": {},
   "outputs": [
    {
     "data": {
      "text/plain": [
       "<Figure size 1440x1440 with 0 Axes>"
      ]
     },
     "execution_count": 78,
     "metadata": {},
     "output_type": "execute_result"
    },
    {
     "data": {
      "text/plain": [
       "<Figure size 1440x1440 with 0 Axes>"
      ]
     },
     "metadata": {},
     "output_type": "display_data"
    }
   ],
   "source": [
    "plt.figure(figsize=(figure_width,figure_height))"
   ]
  },
  {
   "cell_type": "code",
   "execution_count": 79,
   "id": "f185b689-e431-4144-ae1a-08f45a464ad8",
   "metadata": {},
   "outputs": [
    {
     "data": {
      "image/png": "[encoded data removed]",
      "text/plain": [
       "<Figure size 432x288 with 1 Axes>"
      ]
     },
     "metadata": {
      "needs_background": "light"
     },
     "output_type": "display_data"
    }
   ],
   "source": [
    "plt.plot(x_values,y_values,'b.',x_lobf,y_lobf,'r--')\n",
    "plt.xlabel('total budget allocated')\n",
    "plt.ylabel('decadal increase in cases')\n",
    "plt.savefig('regression_figure1.png')"
   ]
  },
  {
   "cell_type": "code",
   "execution_count": 62,
   "id": "8a4f94c6-2bfc-4fd8-84b1-851ed37344e1",
   "metadata": {},
   "outputs": [],
   "source": [
    "# plotting the decadal increase in cases against total budget allocated to tackle condition X in East_Midlands\n",
    "data_filename = 'East_Midlands.csv'"
   ]
  },
  {
   "cell_type": "code",
   "execution_count": 63,
   "id": "d87b4ae4-e479-483a-a9b5-f6029c2ad74a",
   "metadata": {},
   "outputs": [],
   "source": [
    "output_filename = 'regression_figure2.png'"
   ]
  },
  {
   "cell_type": "code",
   "execution_count": 64,
   "id": "fbbd4593-da42-4d58-8295-cc51d3b923a0",
   "metadata": {},
   "outputs": [],
   "source": [
    "figure_width, figure_height = 20,20"
   ]
  },
  {
   "cell_type": "code",
   "execution_count": 65,
   "id": "43395845-2f8d-445c-a327-79a012ab2b1e",
   "metadata": {},
   "outputs": [],
   "source": [
    "data = np.genfromtxt('East_Midlands.csv',delimiter = ',')"
   ]
  },
  {
   "cell_type": "code",
   "execution_count": 66,
   "id": "8b248e8d-5db5-45ec-b87d-467777095dd7",
   "metadata": {},
   "outputs": [],
   "source": [
    "x_values = data[:,0]\n",
    "y_values = data[:,1]"
   ]
  },
  {
   "cell_type": "code",
   "execution_count": 67,
   "id": "5d5094cf-9620-4d8c-bedf-3003b3e39617",
   "metadata": {},
   "outputs": [],
   "source": [
    "X_values = sms.add_constant(x_values)\n",
    "regression_model_a = sms.OLS(y_values, X_values)\n",
    "regression_model_b = regression_model_a.fit()"
   ]
  },
  {
   "cell_type": "code",
   "execution_count": 68,
   "id": "a380a777-81c0-432d-97a5-4c185efc1f0c",
   "metadata": {},
   "outputs": [
    {
     "name": "stdout",
     "output_type": "stream",
     "text": [
      "                            OLS Regression Results                            \n",
      "==============================================================================\n",
      "Dep. Variable:                      y   R-squared:                       0.832\n",
      "Model:                            OLS   Adj. R-squared:                  0.808\n",
      "Method:                 Least Squares   F-statistic:                     34.76\n",
      "Date:                Sun, 14 Nov 2021   Prob (F-statistic):           0.000602\n",
      "Time:                        22:18:43   Log-Likelihood:                -54.055\n",
      "No. Observations:                   9   AIC:                             112.1\n",
      "Df Residuals:                       7   BIC:                             112.5\n",
      "Df Model:                           1                                         \n",
      "Covariance Type:            nonrobust                                         \n",
      "==============================================================================\n",
      "                 coef    std err          t      P>|t|      [0.025      0.975]\n",
      "------------------------------------------------------------------------------\n",
      "const       -129.8514     82.825     -1.568      0.161    -325.703      66.000\n",
      "x1             0.0012      0.000      5.896      0.001       0.001       0.002\n",
      "==============================================================================\n",
      "Omnibus:                        0.310   Durbin-Watson:                   1.907\n",
      "Prob(Omnibus):                  0.856   Jarque-Bera (JB):                0.298\n",
      "Skew:                           0.312   Prob(JB):                        0.862\n",
      "Kurtosis:                       2.363   Cond. No.                     9.29e+05\n",
      "==============================================================================\n",
      "\n",
      "Notes:\n",
      "[1] Standard Errors assume that the covariance matrix of the errors is correctly specified.\n",
      "[2] The condition number is large, 9.29e+05. This might indicate that there are\n",
      "strong multicollinearity or other numerical problems.\n",
      "\n"
     ]
    },
    {
     "name": "stderr",
     "output_type": "stream",
     "text": [
      "C:\\Users\\Dell_Owner\\anaconda3\\lib\\site-packages\\scipy\\stats\\stats.py:1603: UserWarning: kurtosistest only valid for n>=20 ... continuing anyway, n=9\n",
      "  warnings.warn(\"kurtosistest only valid for n>=20 ... continuing \"\n"
     ]
    }
   ],
   "source": [
    "print(regression_model_b.summary())\n",
    "print()"
   ]
  },
  {
   "cell_type": "code",
   "execution_count": 69,
   "id": "9dfb26e6-c0c0-4d61-8791-9cf6b41eb6f7",
   "metadata": {},
   "outputs": [
    {
     "name": "stdout",
     "output_type": "stream",
     "text": [
      "gradient  = 0.0011723852093681651\n",
      "intercept = -129.85142628808023\n",
      "Rsquared  = 0.8323722212428789\n",
      "MSE       = 12403.018818494756\n",
      "pvalue    = 0.0006020921679148142\n"
     ]
    }
   ],
   "source": [
    "print(\"gradient  =\", regression_model_b.params[1])\n",
    "print(\"intercept =\", regression_model_b.params[0])\n",
    "print(\"Rsquared  =\", regression_model_b.rsquared)\n",
    "print(\"MSE       =\", regression_model_b.mse_resid)\n",
    "print(\"pvalue    =\", regression_model_b.f_pvalue)"
   ]
  },
  {
   "cell_type": "code",
   "execution_count": 70,
   "id": "0773a68a-647e-449e-b421-e4ffb168d597",
   "metadata": {},
   "outputs": [],
   "source": [
    "x_lobf = [min(x_values),max(x_values)]\n",
    "y_lobf = [x_lobf[0]*gradient + intercept,x_lobf[1]*gradient + intercept]"
   ]
  },
  {
   "cell_type": "code",
   "execution_count": 71,
   "id": "806a6cfc-a798-41d8-a685-6ad9786849cb",
   "metadata": {},
   "outputs": [
    {
     "data": {
      "text/plain": [
       "<Figure size 1440x1440 with 0 Axes>"
      ]
     },
     "execution_count": 71,
     "metadata": {},
     "output_type": "execute_result"
    },
    {
     "data": {
      "text/plain": [
       "<Figure size 1440x1440 with 0 Axes>"
      ]
     },
     "metadata": {},
     "output_type": "display_data"
    }
   ],
   "source": [
    "plt.figure(figsize=(figure_width,figure_height))"
   ]
  },
  {
   "cell_type": "code",
   "execution_count": 72,
   "id": "6d28443b-951e-4ba8-9b5e-02bd1151f9b8",
   "metadata": {},
   "outputs": [
    {
     "data": {
      "image/png": "[encoded data removed]",
      "text/plain": [
       "<Figure size 432x288 with 1 Axes>"
      ]
     },
     "metadata": {
      "needs_background": "light"
     },
     "output_type": "display_data"
    }
   ],
   "source": [
    "plt.plot(x_values,y_values,'b.',x_lobf,y_lobf,'r--')\n",
    "plt.xlabel('total budget allocated')\n",
    "plt.ylabel('decadal increase in cases')\n",
    "plt.savefig('regression_figure2.png')"
   ]
  },
  {
   "cell_type": "code",
   "execution_count": 80,
   "id": "035ebb7d-942f-4444-a233-f044884ab7f8",
   "metadata": {},
   "outputs": [],
   "source": [
    "# plotting the decadal increase in cases against total budget allocated to tackle condition X in East_England\n",
    "data_filename = 'East_England.csv'"
   ]
  },
  {
   "cell_type": "code",
   "execution_count": 81,
   "id": "bda7b04d-e968-413c-9630-130a138dfe5e",
   "metadata": {},
   "outputs": [],
   "source": [
    "output_filename = 'regression_figure3.png'"
   ]
  },
  {
   "cell_type": "code",
   "execution_count": 82,
   "id": "5738cc58-bec5-4ffd-b39e-9e2bdcbc7656",
   "metadata": {},
   "outputs": [],
   "source": [
    "figure_width, figure_height = 20,20"
   ]
  },
  {
   "cell_type": "code",
   "execution_count": 83,
   "id": "747f4fd2-4555-409d-9a87-99a33e10676e",
   "metadata": {},
   "outputs": [],
   "source": [
    "data = np.genfromtxt('East_England.csv',delimiter = ',')"
   ]
  },
  {
   "cell_type": "code",
   "execution_count": 84,
   "id": "ec07c376-6789-46a6-93d2-5f408279905f",
   "metadata": {},
   "outputs": [],
   "source": [
    "x_values = data[:,0]\n",
    "y_values = data[:,1]"
   ]
  },
  {
   "cell_type": "code",
   "execution_count": 85,
   "id": "5b34deaf-dbda-40f4-84b1-b3beba048afd",
   "metadata": {},
   "outputs": [],
   "source": [
    "X_values = sms.add_constant(x_values)\n",
    "regression_model_a = sms.OLS(y_values, X_values)\n",
    "regression_model_b = regression_model_a.fit()"
   ]
  },
  {
   "cell_type": "code",
   "execution_count": 86,
   "id": "dc8d9ebd-213c-411f-b2ec-1420a6d99dec",
   "metadata": {},
   "outputs": [],
   "source": [
    "gradient  = regression_model_b.params[1]\n",
    "intercept = regression_model_b.params[0]\n",
    "Rsquared  = regression_model_b.rsquared\n",
    "MSE       = regression_model_b.mse_resid\n",
    "pvalue    = regression_model_b.f_pvalue"
   ]
  },
  {
   "cell_type": "code",
   "execution_count": 87,
   "id": "e8fd9d78-8e65-46a5-adbe-aa9cb8fcf8f5",
   "metadata": {},
   "outputs": [
    {
     "name": "stdout",
     "output_type": "stream",
     "text": [
      "gradient  = 0.0004882573530856283\n",
      "intercept = 21.26689566272603\n",
      "Rsquared  = 0.7445585532702635\n",
      "MSE       = 10933.647343289742\n",
      "pvalue    = 0.0006264334989416854\n"
     ]
    }
   ],
   "source": [
    "print(\"gradient  =\", regression_model_b.params[1])\n",
    "print(\"intercept =\", regression_model_b.params[0])\n",
    "print(\"Rsquared  =\", regression_model_b.rsquared)\n",
    "print(\"MSE       =\", regression_model_b.mse_resid)\n",
    "print(\"pvalue    =\", regression_model_b.f_pvalue)"
   ]
  },
  {
   "cell_type": "code",
   "execution_count": 88,
   "id": "7340d3cb-8c2f-4d37-be3b-e404cdc873d6",
   "metadata": {},
   "outputs": [],
   "source": [
    "x_lobf = [min(x_values),max(x_values)]\n",
    "y_lobf = [x_lobf[0]*gradient + intercept,x_lobf[1]*gradient + intercept]"
   ]
  },
  {
   "cell_type": "code",
   "execution_count": 89,
   "id": "16c670cc-20c7-4113-b519-643597dfa5f7",
   "metadata": {},
   "outputs": [
    {
     "data": {
      "text/plain": [
       "<Figure size 1440x1440 with 0 Axes>"
      ]
     },
     "execution_count": 89,
     "metadata": {},
     "output_type": "execute_result"
    },
    {
     "data": {
      "text/plain": [
       "<Figure size 1440x1440 with 0 Axes>"
      ]
     },
     "metadata": {},
     "output_type": "display_data"
    }
   ],
   "source": [
    "plt.figure(figsize=(figure_width,figure_height))"
   ]
  },
  {
   "cell_type": "code",
   "execution_count": 90,
   "id": "ae53869d-3e05-4e38-8b67-299350eebea7",
   "metadata": {},
   "outputs": [
    {
     "data": {
      "image/png": "[encoded data removed]",
      "text/plain": [
       "<Figure size 432x288 with 1 Axes>"
      ]
     },
     "metadata": {
      "needs_background": "light"
     },
     "output_type": "display_data"
    }
   ],
   "source": [
    "plt.plot(x_values,y_values,'b.',x_lobf,y_lobf,'r--')\n",
    "plt.xlabel('total budget allocated')\n",
    "plt.ylabel('decadal increase in cases')\n",
    "plt.savefig('regression_figur3.png')"
   ]
  },
  {
   "cell_type": "code",
   "execution_count": 91,
   "id": "8c664ccc-d824-4e83-8fe9-8033674fecf5",
   "metadata": {},
   "outputs": [],
   "source": [
    "# plotting the decadal increase in cases against total budget allocated to tackle condition X in North East\n",
    "data_filename = 'North_East.csv'"
   ]
  },
  {
   "cell_type": "code",
   "execution_count": 92,
   "id": "cb22f619-700f-4a3f-b05f-2a45367d1648",
   "metadata": {},
   "outputs": [],
   "source": [
    "output_filename = 'regression_figure4.png'"
   ]
  },
  {
   "cell_type": "code",
   "execution_count": 93,
   "id": "75d420c3-b1b3-4484-897c-ccfc358cad10",
   "metadata": {},
   "outputs": [],
   "source": [
    "figure_width, figure_height = 20,20"
   ]
  },
  {
   "cell_type": "code",
   "execution_count": 94,
   "id": "cdf86e2e-f2b4-4600-90eb-709998f44e6c",
   "metadata": {},
   "outputs": [],
   "source": [
    "data = np.genfromtxt('North_East.csv',delimiter = ',')"
   ]
  },
  {
   "cell_type": "code",
   "execution_count": 95,
   "id": "eab444c3-86a8-42e4-bf9c-aca137bee433",
   "metadata": {},
   "outputs": [],
   "source": [
    "x_values = data[:,0]\n",
    "y_values = data[:,1]"
   ]
  },
  {
   "cell_type": "code",
   "execution_count": 96,
   "id": "ff080063-85cd-4600-8ba7-6d2d04060a4a",
   "metadata": {},
   "outputs": [],
   "source": [
    "X_values = sms.add_constant(x_values)\n",
    "regression_model_a = sms.OLS(y_values, X_values)\n",
    "regression_model_b = regression_model_a.fit()"
   ]
  },
  {
   "cell_type": "code",
   "execution_count": 97,
   "id": "529749f0-0128-4a6d-afea-b5a97010dede",
   "metadata": {},
   "outputs": [],
   "source": [
    "gradient  = regression_model_b.params[1]\n",
    "intercept = regression_model_b.params[0]\n",
    "Rsquared  = regression_model_b.rsquared\n",
    "MSE       = regression_model_b.mse_resid\n",
    "pvalue    = regression_model_b.f_pvalue"
   ]
  },
  {
   "cell_type": "code",
   "execution_count": 98,
   "id": "6f68e9e7-07e1-40cb-bb9b-127cff31d70d",
   "metadata": {},
   "outputs": [
    {
     "name": "stdout",
     "output_type": "stream",
     "text": [
      "gradient  = 0.0008349188320961854\n",
      "intercept = -21.91502992341885\n",
      "Rsquared  = 0.6568976745976445\n",
      "MSE       = 3611.7352488129764\n",
      "pvalue    = 0.0013869146064210338\n"
     ]
    }
   ],
   "source": [
    "print(\"gradient  =\", regression_model_b.params[1])\n",
    "print(\"intercept =\", regression_model_b.params[0])\n",
    "print(\"Rsquared  =\", regression_model_b.rsquared)\n",
    "print(\"MSE       =\", regression_model_b.mse_resid)\n",
    "print(\"pvalue    =\", regression_model_b.f_pvalue)"
   ]
  },
  {
   "cell_type": "code",
   "execution_count": 99,
   "id": "9e97f207-2f44-4f0e-b6d9-162572c4803a",
   "metadata": {},
   "outputs": [],
   "source": [
    "x_lobf = [min(x_values),max(x_values)]\n",
    "y_lobf = [x_lobf[0]*gradient + intercept,x_lobf[1]*gradient + intercept]"
   ]
  },
  {
   "cell_type": "code",
   "execution_count": 100,
   "id": "7b7f8625-9fc8-4bf9-93b5-5a585ef41457",
   "metadata": {},
   "outputs": [
    {
     "data": {
      "text/plain": [
       "<Figure size 1440x1440 with 0 Axes>"
      ]
     },
     "execution_count": 100,
     "metadata": {},
     "output_type": "execute_result"
    },
    {
     "data": {
      "text/plain": [
       "<Figure size 1440x1440 with 0 Axes>"
      ]
     },
     "metadata": {},
     "output_type": "display_data"
    }
   ],
   "source": [
    "plt.figure(figsize=(figure_width,figure_height))"
   ]
  },
  {
   "cell_type": "code",
   "execution_count": 101,
   "id": "5b68ea25-c531-4d8d-b97b-6693e17d3d38",
   "metadata": {},
   "outputs": [
    {
     "data": {
      "image/png": "[encoded data removed]",
      "text/plain": [
       "<Figure size 432x288 with 1 Axes>"
      ]
     },
     "metadata": {
      "needs_background": "light"
     },
     "output_type": "display_data"
    }
   ],
   "source": [
    "plt.plot(x_values,y_values,'b.',x_lobf,y_lobf,'r--')\n",
    "plt.xlabel('total budget allocated')\n",
    "plt.ylabel('decadal increase in cases')\n",
    "plt.savefig('regression_figure4.png')"
   ]
  },
  {
   "cell_type": "code",
   "execution_count": 102,
   "id": "c3cc29be-6847-49f2-b475-5dc9c5b1ed03",
   "metadata": {},
   "outputs": [],
   "source": [
    "# plotting the decadal increase in cases against total budget allocated to tackle condition X in North West\n",
    "data_filename = 'North_West.csv'"
   ]
  },
  {
   "cell_type": "code",
   "execution_count": 103,
   "id": "ebd851ef-9e39-4327-999e-520eead6a115",
   "metadata": {},
   "outputs": [],
   "source": [
    "output_filename = 'regression_figure5.png'"
   ]
  },
  {
   "cell_type": "code",
   "execution_count": 104,
   "id": "6acfdeac-52d8-4251-bb55-69f138546ae3",
   "metadata": {},
   "outputs": [],
   "source": [
    "figure_width, figure_height = 20,20"
   ]
  },
  {
   "cell_type": "code",
   "execution_count": 105,
   "id": "1b05112d-4ae3-46f9-adcf-f1e1d32b49ae",
   "metadata": {},
   "outputs": [],
   "source": [
    "data = np.genfromtxt('North_West.csv',delimiter = ',')"
   ]
  },
  {
   "cell_type": "code",
   "execution_count": 106,
   "id": "7d9b7cb4-e7e5-47f3-bb31-1bdf3c5865ef",
   "metadata": {},
   "outputs": [],
   "source": [
    "x_values = data[:,0]\n",
    "y_values = data[:,1]"
   ]
  },
  {
   "cell_type": "code",
   "execution_count": 107,
   "id": "fe0ed857-8b9e-407b-943f-4cd669eb4c58",
   "metadata": {},
   "outputs": [],
   "source": [
    "X_values = sms.add_constant(x_values)\n",
    "regression_model_a = sms.OLS(y_values, X_values)\n",
    "regression_model_b = regression_model_a.fit()"
   ]
  },
  {
   "cell_type": "code",
   "execution_count": 108,
   "id": "b65ad56c-96a9-40c8-94c5-eceec21aedca",
   "metadata": {},
   "outputs": [],
   "source": [
    "gradient  = regression_model_b.params[1]\n",
    "intercept = regression_model_b.params[0]\n",
    "Rsquared  = regression_model_b.rsquared\n",
    "MSE       = regression_model_b.mse_resid\n",
    "pvalue    = regression_model_b.f_pvalue"
   ]
  },
  {
   "cell_type": "code",
   "execution_count": 109,
   "id": "8304e43d-896e-4710-ba2f-f8720c08bdb7",
   "metadata": {},
   "outputs": [
    {
     "name": "stdout",
     "output_type": "stream",
     "text": [
      "gradient  = 0.0009257687675881907\n",
      "intercept = 11.208367159544764\n",
      "Rsquared  = 0.6480700834969562\n",
      "MSE       = 11157.204268927931\n",
      "pvalue    = 3.613159519014362e-06\n"
     ]
    }
   ],
   "source": [
    "print(\"gradient  =\", regression_model_b.params[1])\n",
    "print(\"intercept =\", regression_model_b.params[0])\n",
    "print(\"Rsquared  =\", regression_model_b.rsquared)\n",
    "print(\"MSE       =\", regression_model_b.mse_resid)\n",
    "print(\"pvalue    =\", regression_model_b.f_pvalue)"
   ]
  },
  {
   "cell_type": "code",
   "execution_count": 110,
   "id": "d3a6f486-78c8-41eb-8b41-ce9be5b83079",
   "metadata": {},
   "outputs": [],
   "source": [
    "x_lobf = [min(x_values),max(x_values)]\n",
    "y_lobf = [x_lobf[0]*gradient + intercept,x_lobf[1]*gradient + intercept]"
   ]
  },
  {
   "cell_type": "code",
   "execution_count": 111,
   "id": "653604e6-734b-4fe1-9927-c9b698123308",
   "metadata": {},
   "outputs": [
    {
     "data": {
      "text/plain": [
       "<Figure size 1440x1440 with 0 Axes>"
      ]
     },
     "execution_count": 111,
     "metadata": {},
     "output_type": "execute_result"
    },
    {
     "data": {
      "text/plain": [
       "<Figure size 1440x1440 with 0 Axes>"
      ]
     },
     "metadata": {},
     "output_type": "display_data"
    }
   ],
   "source": [
    "plt.figure(figsize=(figure_width,figure_height))"
   ]
  },
  {
   "cell_type": "code",
   "execution_count": 112,
   "id": "cfd05b74-fcda-48bb-b584-71da45f6ad2f",
   "metadata": {},
   "outputs": [
    {
     "data": {
      "image/png": "[encoded data removed]",
      "text/plain": [
       "<Figure size 432x288 with 1 Axes>"
      ]
     },
     "metadata": {
      "needs_background": "light"
     },
     "output_type": "display_data"
    }
   ],
   "source": [
    "plt.plot(x_values,y_values,'b.',x_lobf,y_lobf,'r--')\n",
    "plt.xlabel('total budget allocated')\n",
    "plt.ylabel('decadal increase in cases')\n",
    "plt.savefig('regression_figure5.png')"
   ]
  },
  {
   "cell_type": "code",
   "execution_count": 113,
   "id": "846b5a36-5f43-453c-a519-ac478dc07bdc",
   "metadata": {},
   "outputs": [],
   "source": [
    "# plotting the decadal increase in cases against total budget allocated to tackle condition X in South East\n",
    "data_filename = 'South_East.csv'"
   ]
  },
  {
   "cell_type": "code",
   "execution_count": 114,
   "id": "5cc1612f-81e3-4ca9-b3c0-6e02737b6f72",
   "metadata": {},
   "outputs": [],
   "source": [
    "output_filename = 'regression_figure6.png'"
   ]
  },
  {
   "cell_type": "code",
   "execution_count": 115,
   "id": "18cb452c-879a-4bdb-91df-b7e499986ef9",
   "metadata": {},
   "outputs": [],
   "source": [
    "figure_width, figure_height = 20,20"
   ]
  },
  {
   "cell_type": "code",
   "execution_count": 116,
   "id": "f0311400-5215-4d90-93f3-0b8f1edfe1ec",
   "metadata": {},
   "outputs": [],
   "source": [
    "data = np.genfromtxt('South_East.csv',delimiter = ',')"
   ]
  },
  {
   "cell_type": "code",
   "execution_count": 117,
   "id": "fed85711-df8c-4710-82c4-b5593d3e21d4",
   "metadata": {},
   "outputs": [],
   "source": [
    "x_values = data[:,0]\n",
    "y_values = data[:,1]"
   ]
  },
  {
   "cell_type": "code",
   "execution_count": 118,
   "id": "64f13d26-c203-4f21-9126-095ef6de8d52",
   "metadata": {},
   "outputs": [],
   "source": [
    "X_values = sms.add_constant(x_values)\n",
    "regression_model_a = sms.OLS(y_values, X_values)\n",
    "regression_model_b = regression_model_a.fit()"
   ]
  },
  {
   "cell_type": "code",
   "execution_count": 119,
   "id": "6cab4e3b-ca2b-49c2-bd85-c750eed10e1d",
   "metadata": {},
   "outputs": [],
   "source": [
    "gradient  = regression_model_b.params[1]\n",
    "intercept = regression_model_b.params[0]\n",
    "Rsquared  = regression_model_b.rsquared\n",
    "MSE       = regression_model_b.mse_resid\n",
    "pvalue    = regression_model_b.f_pvalue"
   ]
  },
  {
   "cell_type": "code",
   "execution_count": 120,
   "id": "85f4b514-09a6-47db-9087-941fec66a295",
   "metadata": {},
   "outputs": [
    {
     "name": "stdout",
     "output_type": "stream",
     "text": [
      "gradient  = 0.0004959351475857474\n",
      "intercept = -7.369347488756862\n",
      "Rsquared  = 0.719135070459188\n",
      "MSE       = 13448.468467766632\n",
      "pvalue    = 4.524860922346713e-06\n"
     ]
    }
   ],
   "source": [
    "print(\"gradient  =\", regression_model_b.params[1])\n",
    "print(\"intercept =\", regression_model_b.params[0])\n",
    "print(\"Rsquared  =\", regression_model_b.rsquared)\n",
    "print(\"MSE       =\", regression_model_b.mse_resid)\n",
    "print(\"pvalue    =\", regression_model_b.f_pvalue)"
   ]
  },
  {
   "cell_type": "code",
   "execution_count": 121,
   "id": "aa546f27-429e-4f3b-be2e-611a68e27092",
   "metadata": {},
   "outputs": [],
   "source": [
    "x_lobf = [min(x_values),max(x_values)]\n",
    "y_lobf = [x_lobf[0]*gradient + intercept,x_lobf[1]*gradient + intercept]"
   ]
  },
  {
   "cell_type": "code",
   "execution_count": 122,
   "id": "4c1973fe-5402-4d38-a4bb-5f51e9a2261b",
   "metadata": {},
   "outputs": [
    {
     "data": {
      "text/plain": [
       "<Figure size 1440x1440 with 0 Axes>"
      ]
     },
     "execution_count": 122,
     "metadata": {},
     "output_type": "execute_result"
    },
    {
     "data": {
      "text/plain": [
       "<Figure size 1440x1440 with 0 Axes>"
      ]
     },
     "metadata": {},
     "output_type": "display_data"
    }
   ],
   "source": [
    "plt.figure(figsize=(figure_width,figure_height))"
   ]
  },
  {
   "cell_type": "code",
   "execution_count": 123,
   "id": "954490fd-3156-417c-a547-33c255ea8f37",
   "metadata": {},
   "outputs": [
    {
     "data": {
      "image/png": "[encoded data removed]",
      "text/plain": [
       "<Figure size 432x288 with 1 Axes>"
      ]
     },
     "metadata": {
      "needs_background": "light"
     },
     "output_type": "display_data"
    }
   ],
   "source": [
    "plt.plot(x_values,y_values,'b.',x_lobf,y_lobf,'r--')\n",
    "plt.xlabel('total budget allocated')\n",
    "plt.ylabel('decadal increase in cases')\n",
    "plt.savefig('regression_figure5.png')"
   ]
  },
  {
   "cell_type": "code",
   "execution_count": 124,
   "id": "cc4ac843-5f63-4c30-871b-dc346fcf99c5",
   "metadata": {},
   "outputs": [],
   "source": [
    "# plotting the decadal increase in cases against total budget allocated to tackle condition X in South West\n",
    "data_filename = 'South_West.csv'"
   ]
  },
  {
   "cell_type": "code",
   "execution_count": 125,
   "id": "63cce8f3-0f9b-40e2-8cc6-05efb737cd4f",
   "metadata": {},
   "outputs": [],
   "source": [
    "output_filename = 'regression_figure7.png'"
   ]
  },
  {
   "cell_type": "code",
   "execution_count": 126,
   "id": "aaf3f477-e55f-418f-9851-79f59b5d06c6",
   "metadata": {},
   "outputs": [],
   "source": [
    "figure_width, figure_height = 20,20"
   ]
  },
  {
   "cell_type": "code",
   "execution_count": 127,
   "id": "6baa8bc8-39b0-4255-8752-765fa0d2f081",
   "metadata": {},
   "outputs": [],
   "source": [
    "data = np.genfromtxt('South_East.csv',delimiter = ',')"
   ]
  },
  {
   "cell_type": "code",
   "execution_count": 128,
   "id": "8f4250e6-b2e5-495e-acd1-56ce767204c8",
   "metadata": {},
   "outputs": [],
   "source": [
    "x_values = data[:,0]\n",
    "y_values = data[:,1]"
   ]
  },
  {
   "cell_type": "code",
   "execution_count": 129,
   "id": "40b85552-bed7-4846-92f3-874cd72d222d",
   "metadata": {},
   "outputs": [],
   "source": [
    "X_values = sms.add_constant(x_values)\n",
    "regression_model_a = sms.OLS(y_values, X_values)\n",
    "regression_model_b = regression_model_a.fit()"
   ]
  },
  {
   "cell_type": "code",
   "execution_count": 130,
   "id": "10e3ab70-bd8a-4043-812b-3dc82fb7d19f",
   "metadata": {},
   "outputs": [],
   "source": [
    "gradient  = regression_model_b.params[1]\n",
    "intercept = regression_model_b.params[0]\n",
    "Rsquared  = regression_model_b.rsquared\n",
    "MSE       = regression_model_b.mse_resid\n",
    "pvalue    = regression_model_b.f_pvalue"
   ]
  },
  {
   "cell_type": "code",
   "execution_count": 131,
   "id": "dba5dbe6-1ba9-434f-b21d-611b1ce98f09",
   "metadata": {},
   "outputs": [
    {
     "name": "stdout",
     "output_type": "stream",
     "text": [
      "gradient  = 0.0004959351475857474\n",
      "intercept = -7.369347488756862\n",
      "Rsquared  = 0.719135070459188\n",
      "MSE       = 13448.468467766632\n",
      "pvalue    = 4.524860922346713e-06\n"
     ]
    }
   ],
   "source": [
    "print(\"gradient  =\", regression_model_b.params[1])\n",
    "print(\"intercept =\", regression_model_b.params[0])\n",
    "print(\"Rsquared  =\", regression_model_b.rsquared)\n",
    "print(\"MSE       =\", regression_model_b.mse_resid)\n",
    "print(\"pvalue    =\", regression_model_b.f_pvalue)"
   ]
  },
  {
   "cell_type": "code",
   "execution_count": 132,
   "id": "555c0540-ed88-4d09-9ab3-85aa9c22dbb8",
   "metadata": {},
   "outputs": [],
   "source": [
    "x_lobf = [min(x_values),max(x_values)]\n",
    "y_lobf = [x_lobf[0]*gradient + intercept,x_lobf[1]*gradient + intercept]"
   ]
  },
  {
   "cell_type": "code",
   "execution_count": 133,
   "id": "663cf16c-c545-41e8-b5bf-511cd0c4ce5f",
   "metadata": {},
   "outputs": [
    {
     "data": {
      "text/plain": [
       "<Figure size 1440x1440 with 0 Axes>"
      ]
     },
     "execution_count": 133,
     "metadata": {},
     "output_type": "execute_result"
    },
    {
     "data": {
      "text/plain": [
       "<Figure size 1440x1440 with 0 Axes>"
      ]
     },
     "metadata": {},
     "output_type": "display_data"
    }
   ],
   "source": [
    "plt.figure(figsize=(figure_width,figure_height))"
   ]
  },
  {
   "cell_type": "code",
   "execution_count": 134,
   "id": "6f7f4209-327c-45fe-8d5e-93a1140957ec",
   "metadata": {},
   "outputs": [
    {
     "data": {
      "image/png": "[encoded data removed]",
      "text/plain": [
       "<Figure size 432x288 with 1 Axes>"
      ]
     },
     "metadata": {
      "needs_background": "light"
     },
     "output_type": "display_data"
    }
   ],
   "source": [
    "plt.plot(x_values,y_values,'b.',x_lobf,y_lobf,'r--')\n",
    "plt.xlabel('total budget allocated')\n",
    "plt.ylabel('decadal increase in cases')\n",
    "plt.savefig('regression_figure7.png')"
   ]
  },
  {
   "cell_type": "code",
   "execution_count": 135,
   "id": "0a608fd0-d507-479f-b35d-2f8ae5a64f07",
   "metadata": {},
   "outputs": [],
   "source": [
    "# plotting the decadal increase in cases against total budget allocated to tackle condition X in West Midlands\n",
    "data_filename = 'WestMidlands.csv'"
   ]
  },
  {
   "cell_type": "code",
   "execution_count": 136,
   "id": "0b72f51f-85b6-4fa4-9026-0ebb7d920439",
   "metadata": {},
   "outputs": [],
   "source": [
    "output_filename = 'regression_figure8.png'"
   ]
  },
  {
   "cell_type": "code",
   "execution_count": 137,
   "id": "f93581f3-76b6-4fb3-9e6a-61c987ea529c",
   "metadata": {},
   "outputs": [],
   "source": [
    "figure_width, figure_height = 20,20"
   ]
  },
  {
   "cell_type": "code",
   "execution_count": 138,
   "id": "6167711a-80ba-47dd-b18d-11a8b0e68f0a",
   "metadata": {},
   "outputs": [],
   "source": [
    "data = np.genfromtxt('WestMidlands.csv',delimiter = ',')"
   ]
  },
  {
   "cell_type": "code",
   "execution_count": 139,
   "id": "f76c98e4-a975-4f52-973f-0fd4f046877e",
   "metadata": {},
   "outputs": [],
   "source": [
    "x_values = data[:,0]\n",
    "y_values = data[:,1]"
   ]
  },
  {
   "cell_type": "code",
   "execution_count": 140,
   "id": "ea8013cd-ef47-4505-ad6f-ca3ba67fb535",
   "metadata": {},
   "outputs": [],
   "source": [
    "X_values = sms.add_constant(x_values)\n",
    "regression_model_a = sms.OLS(y_values, X_values)\n",
    "regression_model_b = regression_model_a.fit()"
   ]
  },
  {
   "cell_type": "code",
   "execution_count": 141,
   "id": "a5dad205-8986-4ca9-968b-ebe119073790",
   "metadata": {},
   "outputs": [],
   "source": [
    "gradient  = regression_model_b.params[1]\n",
    "intercept = regression_model_b.params[0]\n",
    "Rsquared  = regression_model_b.rsquared\n",
    "MSE       = regression_model_b.mse_resid\n",
    "pvalue    = regression_model_b.f_pvalue"
   ]
  },
  {
   "cell_type": "code",
   "execution_count": 142,
   "id": "3934afac-170d-43bb-b097-ac39d8fa7fbb",
   "metadata": {},
   "outputs": [
    {
     "name": "stdout",
     "output_type": "stream",
     "text": [
      "gradient  = 0.001002899848289997\n",
      "intercept = -6.597496650610566\n",
      "Rsquared  = 0.861355533190252\n",
      "MSE       = 7172.698867110171\n",
      "pvalue    = 1.7071037723365313e-06\n"
     ]
    }
   ],
   "source": [
    "print(\"gradient  =\", regression_model_b.params[1])\n",
    "print(\"intercept =\", regression_model_b.params[0])\n",
    "print(\"Rsquared  =\", regression_model_b.rsquared)\n",
    "print(\"MSE       =\", regression_model_b.mse_resid)\n",
    "print(\"pvalue    =\", regression_model_b.f_pvalue)"
   ]
  },
  {
   "cell_type": "code",
   "execution_count": 143,
   "id": "848b40d8-da00-44c5-b014-a7a136353cee",
   "metadata": {},
   "outputs": [],
   "source": [
    "x_lobf = [min(x_values),max(x_values)]\n",
    "y_lobf = [x_lobf[0]*gradient + intercept,x_lobf[1]*gradient + intercept]"
   ]
  },
  {
   "cell_type": "code",
   "execution_count": 146,
   "id": "2b16eaf8-af88-4321-ad3b-155fb0b8670a",
   "metadata": {},
   "outputs": [
    {
     "data": {
      "text/plain": [
       "<Figure size 1440x1440 with 0 Axes>"
      ]
     },
     "execution_count": 146,
     "metadata": {},
     "output_type": "execute_result"
    },
    {
     "data": {
      "text/plain": [
       "<Figure size 1440x1440 with 0 Axes>"
      ]
     },
     "metadata": {},
     "output_type": "display_data"
    }
   ],
   "source": [
    "plt.figure(figsize=(figure_width,figure_height))"
   ]
  },
  {
   "cell_type": "code",
   "execution_count": 147,
   "id": "50ae5975-812f-42bf-9e82-878297ae8057",
   "metadata": {},
   "outputs": [
    {
     "data": {
      "image/png": "[encoded data removed]",
      "text/plain": [
       "<Figure size 432x288 with 1 Axes>"
      ]
     },
     "metadata": {
      "needs_background": "light"
     },
     "output_type": "display_data"
    }
   ],
   "source": [
    "plt.plot(x_values,y_values,'b.',x_lobf,y_lobf,'r--')\n",
    "plt.xlabel('total budget allocated')\n",
    "plt.ylabel('decadal increase in cases')\n",
    "plt.savefig('regression_figure8.png')"
   ]
  },
  {
   "cell_type": "code",
   "execution_count": 148,
   "id": "6993cc23-53d4-41a2-a5ca-dc1ae732d6a2",
   "metadata": {},
   "outputs": [],
   "source": [
    "# plotting the decadal increase in cases against total budget allocated to tackle condition X in Yorkshire Humber\n",
    "data_filename = 'Yorkshire_Humber.csv'"
   ]
  },
  {
   "cell_type": "code",
   "execution_count": 149,
   "id": "3a0b9ab2-be8c-4de4-b5db-d2baa9cf6cae",
   "metadata": {},
   "outputs": [],
   "source": [
    "output_filename = 'regression_figure9.png'"
   ]
  },
  {
   "cell_type": "code",
   "execution_count": 150,
   "id": "cd5aea3e-0c24-45c1-9a5c-2b687ec7f497",
   "metadata": {},
   "outputs": [],
   "source": [
    "figure_width, figure_height = 20,20"
   ]
  },
  {
   "cell_type": "code",
   "execution_count": 151,
   "id": "bd0a2cae-2dec-4c51-b947-5e1ec025c2d0",
   "metadata": {},
   "outputs": [],
   "source": [
    "data = np.genfromtxt('Yorkshire_Humber.csv',delimiter = ',')"
   ]
  },
  {
   "cell_type": "code",
   "execution_count": 152,
   "id": "5bf0ab34-7608-4674-a593-b1d5a2cf64bb",
   "metadata": {},
   "outputs": [],
   "source": [
    "x_values = data[:,0]\n",
    "y_values = data[:,1]"
   ]
  },
  {
   "cell_type": "code",
   "execution_count": 153,
   "id": "5ab44e4e-541d-4a4a-ab08-555349241020",
   "metadata": {},
   "outputs": [
    {
     "data": {
      "text/plain": [
       "224.13333333333333"
      ]
     },
     "execution_count": 153,
     "metadata": {},
     "output_type": "execute_result"
    }
   ],
   "source": [
    "np.mean(y_values)"
   ]
  },
  {
   "cell_type": "code",
   "execution_count": 154,
   "id": "40e68e38-7098-4b19-97e5-29210895be4e",
   "metadata": {},
   "outputs": [
    {
     "data": {
      "text/plain": [
       "244.0"
      ]
     },
     "execution_count": 154,
     "metadata": {},
     "output_type": "execute_result"
    }
   ],
   "source": [
    "np.median(y_values)"
   ]
  },
  {
   "cell_type": "code",
   "execution_count": 155,
   "id": "ece13034-63db-40ab-af96-109df5aac61d",
   "metadata": {},
   "outputs": [
    {
     "data": {
      "text/plain": [
       "116.56921644337422"
      ]
     },
     "execution_count": 155,
     "metadata": {},
     "output_type": "execute_result"
    }
   ],
   "source": [
    "np.std(y_values)"
   ]
  },
  {
   "cell_type": "code",
   "execution_count": 156,
   "id": "66659a08-0cf9-4d30-bb7b-cdc69b1ee811",
   "metadata": {},
   "outputs": [],
   "source": [
    "X_values = sms.add_constant(x_values)\n",
    "regression_model_a = sms.OLS(y_values, X_values)\n",
    "regression_model_b = regression_model_a.fit()"
   ]
  },
  {
   "cell_type": "code",
   "execution_count": 157,
   "id": "cd642567-6fd5-410d-ac4f-e16e02873a38",
   "metadata": {},
   "outputs": [],
   "source": [
    "gradient  = regression_model_b.params[1]\n",
    "intercept = regression_model_b.params[0]\n",
    "Rsquared  = regression_model_b.rsquared\n",
    "MSE       = regression_model_b.mse_resid\n",
    "pvalue    = regression_model_b.f_pvalue"
   ]
  },
  {
   "cell_type": "code",
   "execution_count": 158,
   "id": "94ad2a92-c3d3-4bbe-8ed4-7b4e725f81f1",
   "metadata": {},
   "outputs": [
    {
     "name": "stdout",
     "output_type": "stream",
     "text": [
      "gradient  = 0.0005948475218036155\n",
      "intercept = 62.85034192164632\n",
      "Rsquared  = 0.4995642794879597\n",
      "MSE       = 7846.2829015047455\n",
      "pvalue    = 0.0032169936547516774\n"
     ]
    }
   ],
   "source": [
    "print(\"gradient  =\", regression_model_b.params[1])\n",
    "print(\"intercept =\", regression_model_b.params[0])\n",
    "print(\"Rsquared  =\", regression_model_b.rsquared)\n",
    "print(\"MSE       =\", regression_model_b.mse_resid)\n",
    "print(\"pvalue    =\", regression_model_b.f_pvalue)"
   ]
  },
  {
   "cell_type": "code",
   "execution_count": 159,
   "id": "cbf04d5d-7075-453f-808c-37da28cb5bad",
   "metadata": {},
   "outputs": [],
   "source": [
    "x_lobf = [min(x_values),max(x_values)]\n",
    "y_lobf = [x_lobf[0]*gradient + intercept,x_lobf[1]*gradient + intercept]"
   ]
  },
  {
   "cell_type": "code",
   "execution_count": 160,
   "id": "312d9fcb-1be4-4632-9914-3c32ee8c1d4e",
   "metadata": {},
   "outputs": [
    {
     "data": {
      "text/plain": [
       "<Figure size 1440x1440 with 0 Axes>"
      ]
     },
     "execution_count": 160,
     "metadata": {},
     "output_type": "execute_result"
    },
    {
     "data": {
      "text/plain": [
       "<Figure size 1440x1440 with 0 Axes>"
      ]
     },
     "metadata": {},
     "output_type": "display_data"
    }
   ],
   "source": [
    "plt.figure(figsize=(figure_width,figure_height))"
   ]
  },
  {
   "cell_type": "code",
   "execution_count": 161,
   "id": "57db9b88-a3e4-4445-957d-3462a2e2f03b",
   "metadata": {},
   "outputs": [
    {
     "data": {
      "image/png": "[encoded data removed]",
      "text/plain": [
       "<Figure size 432x288 with 1 Axes>"
      ]
     },
     "metadata": {
      "needs_background": "light"
     },
     "output_type": "display_data"
    }
   ],
   "source": [
    "plt.plot(x_values,y_values,'b.',x_lobf,y_lobf,'r--')\n",
    "plt.xlabel('total budget allocated')\n",
    "plt.ylabel('decadal increase in cases')\n",
    "plt.savefig('regression_figure9.png')"
   ]
  },
  {
   "cell_type": "code",
   "execution_count": null,
   "id": "bbb54006-7b67-4f1c-93e7-d6b3fc4db7c7",
   "metadata": {},
   "outputs": [],
   "source": []
  },
  {
   "cell_type": "code",
   "execution_count": null,
   "id": "e09f01a9-431f-4f67-97cc-518c0c3c8d3e",
   "metadata": {},
   "outputs": [],
   "source": []
  }
 ],
 "metadata": {
  "kernelspec": {
   "display_name": "Python 3",
   "language": "python",
   "name": "python3"
  },
  "language_info": {
   "codemirror_mode": {
    "name": "ipython",
    "version": 3
   },
   "file_extension": ".py",
   "mimetype": "text/x-python",
   "name": "python",
   "nbconvert_exporter": "python",
   "pygments_lexer": "ipython3",
   "version": "3.8.8"
  }
 },
 "nbformat": 4,
 "nbformat_minor": 5
}
